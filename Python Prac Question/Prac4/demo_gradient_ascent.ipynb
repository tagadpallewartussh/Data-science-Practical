{
 "cells": [
  {
   "cell_type": "code",
   "execution_count": 2,
   "metadata": {},
   "outputs": [
    {
     "name": "stdout",
     "output_type": "stream",
     "text": [
      "Enter a function in one variable:x^5-30*x^3+50*x\n",
      "Enter the variable to differentiate with respect to: x\n",
      "Enter the initial value of the variable: 0.5\n",
      "x: 0.757452532565767\n",
      "Maximum value: 25.0846622605419\n"
     ]
    }
   ],
   "source": [
    "from sympy import Derivative, Symbol, sympify, SympifyError\n",
    "\n",
    "def grad_ascent(x0, f1x, x):\n",
    "    epsilon = 1e-6\n",
    "    step_size = 1e-4\n",
    "    x_old = x0\n",
    "    x_new = x_old + step_size*f1x.subs({x:x_old}).evalf()\n",
    "    while abs(x_old - x_new) > epsilon:\n",
    "        x_old = x_new\n",
    "        x_new = x_old + step_size *f1x.subs({x:x_old}).evalf()\n",
    "        \n",
    "    return x_new    \n",
    "\n",
    "if __name__ == '__main__':\n",
    "    \n",
    "    f = input('Enter a function in one variable:')\n",
    "    var = input('Enter the variable to differentiate with respect to: ')\n",
    "    var0 = float(input('Enter the initial value of the variable: '))\n",
    "    try:\n",
    "        f = sympify(f)\n",
    "    except SympifyError:\n",
    "        print('Invalid function entered')\n",
    "    else:\n",
    "        var = Symbol(var)\n",
    "        d = Derivative(f, var).doit()\n",
    "        var_max = grad_ascent(var0, d, var)\n",
    "        print('{0}: {1}'.format(var.name, var_max))\n",
    "        print('Maximum value: {0}'.format(f.subs({var:var_max})))"
   ]
  },
  {
   "cell_type": "code",
   "execution_count": null,
   "metadata": {},
   "outputs": [],
   "source": []
  }
 ],
 "metadata": {
  "kernelspec": {
   "display_name": "Python 3",
   "language": "python",
   "name": "python3"
  },
  "language_info": {
   "codemirror_mode": {
    "name": "ipython",
    "version": 3
   },
   "file_extension": ".py",
   "mimetype": "text/x-python",
   "name": "python",
   "nbconvert_exporter": "python",
   "pygments_lexer": "ipython3",
   "version": "3.7.3"
  }
 },
 "nbformat": 4,
 "nbformat_minor": 2
}
