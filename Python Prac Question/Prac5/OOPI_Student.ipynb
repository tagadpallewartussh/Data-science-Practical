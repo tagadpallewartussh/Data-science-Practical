{
 "cells": [
  {
   "cell_type": "code",
   "execution_count": 1,
   "metadata": {},
   "outputs": [],
   "source": [
    "class Student:\n",
    "    \"\"\"contents of the class\"\"\"\n",
    "    def __init__(self, pModule, pName, pMark):\n",
    "        self.module = pModule\n",
    "        self.name = pName\n",
    "        self.mark = pMark\n",
    "        print('Creating Student Object')    \n",
    "        \n",
    "    def __str__(self):\n",
    "        return \"Module = %s, Name = %s, Mark = %d\" %(self.module, self.name, self.mark)\n",
    "    \n",
    "    def totalMark(self):\n",
    "        prompt = '\\nEnter the mark of the first coursework %s:' %(self.name)\n",
    "        mark1 = input(prompt)\n",
    "        prompt = '\\nEnter the mark of the second coursework %s:' %(self.name)\n",
    "        mark2 = input(prompt)\n",
    "        self.mark = int(mark1)+int(mark2)\n",
    "        return self.mark"
   ]
  },
  {
   "cell_type": "code",
   "execution_count": null,
   "metadata": {},
   "outputs": [],
   "source": []
  }
 ],
 "metadata": {
  "kernelspec": {
   "display_name": "Python 3",
   "language": "python",
   "name": "python3"
  },
  "language_info": {
   "codemirror_mode": {
    "name": "ipython",
    "version": 3
   },
   "file_extension": ".py",
   "mimetype": "text/x-python",
   "name": "python",
   "nbconvert_exporter": "python",
   "pygments_lexer": "ipython3",
   "version": "3.7.3"
  }
 },
 "nbformat": 4,
 "nbformat_minor": 2
}
