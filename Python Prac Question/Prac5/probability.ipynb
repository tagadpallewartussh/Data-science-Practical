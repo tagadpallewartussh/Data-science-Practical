{
 "cells": [
  {
   "cell_type": "code",
   "execution_count": 2,
   "metadata": {},
   "outputs": [],
   "source": [
    "def probability(space, event):\n",
    "    '''define the probability for a uniform distribution'''\n",
    "    '''P(E) = n(E)/n(S), n(E) and n(S) are the cardinality of the sets E, the event, and S, the sample space'''\n",
    "    prob = ????\n",
    "    return prob"
   ]
  },
  {
   "cell_type": "code",
   "execution_count": 3,
   "metadata": {},
   "outputs": [],
   "source": [
    "'''The aim of this function is to check if a number if an even number'''\n",
    "def check_even(number):\n",
    "    for i in range(2, number):\n",
    "        if number % 2 !=0:\n",
    "            return ????\n",
    "    return True"
   ]
  },
  {
   "cell_type": "code",
   "execution_count": null,
   "metadata": {},
   "outputs": [],
   "source": [
    "if __name__=='__main__':\n",
    "    space = range(2,50)\n",
    "    evens = []\n",
    "    for j in space:\n",
    "        if check_even(j):\n",
    "            evens.append(j)\n",
    "    p = probability(space, evens) \n",
    "    \n",
    "    print('Sample space: {0}'.format(space))\n",
    "    print('Event: {0}'.format(evens))\n",
    "    print('Probability of even numbers: {0:.5f}'.format(p))"
   ]
  }
 ],
 "metadata": {
  "kernelspec": {
   "display_name": "Python 3",
   "language": "python",
   "name": "python3"
  },
  "language_info": {
   "codemirror_mode": {
    "name": "ipython",
    "version": 3
   },
   "file_extension": ".py",
   "mimetype": "text/x-python",
   "name": "python",
   "nbconvert_exporter": "python",
   "pygments_lexer": "ipython3",
   "version": "3.7.3"
  }
 },
 "nbformat": 4,
 "nbformat_minor": 2
}
